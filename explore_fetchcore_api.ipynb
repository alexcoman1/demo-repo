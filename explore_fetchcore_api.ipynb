{
 "cells": [
  {
   "cell_type": "markdown",
   "id": "9d90b6d4",
   "metadata": {},
   "source": [
    "# Explore Fetchcore API"
   ]
  },
  {
   "cell_type": "code",
   "execution_count": null,
   "id": "629c60df",
   "metadata": {},
   "outputs": [],
   "source": [
    "import os\n",
    "import requests\n",
    "import json"
   ]
  },
  {
   "cell_type": "code",
   "execution_count": null,
   "id": "48468289",
   "metadata": {},
   "outputs": [],
   "source": [
    "# Get AUTH HEADERS\n",
    "with open(os.path.expanduser('~/sup_ws/fetchcore_token.txt')) as f:\n",
    "    token=f.read().strip()\n",
    "headers = {'Authorization' : 'Bearer {}'.format(token)}"
   ]
  },
  {
   "cell_type": "code",
   "execution_count": null,
   "id": "34158c28",
   "metadata": {},
   "outputs": [],
   "source": [
    "customer='zebra-support'\n",
    "url='https://{}.fetchcore-cloud.com'.format(customer)"
   ]
  },
  {
   "cell_type": "markdown",
   "id": "dd07d02e",
   "metadata": {},
   "source": [
    "## Simple Examples"
   ]
  },
  {
   "cell_type": "markdown",
   "id": "bf827f70",
   "metadata": {},
   "source": [
    "### Get all api v1 endpoints"
   ]
  },
  {
   "cell_type": "code",
   "execution_count": null,
   "id": "d7032255",
   "metadata": {},
   "outputs": [],
   "source": [
    "api_v1=url+'/api/v1'\n",
    "r=requests.get(api_v1,headers=headers)\n",
    "resp=r.json()"
   ]
  },
  {
   "cell_type": "markdown",
   "id": "b2dab4b3",
   "metadata": {},
   "source": [
    "### Get System Information"
   ]
  },
  {
   "cell_type": "code",
   "execution_count": null,
   "id": "1dd744da",
   "metadata": {},
   "outputs": [],
   "source": [
    "system=url+'/api/v1/system'\n",
    "r=requests.get(system,headers=headers)\n",
    "resp=r.json()\n",
    "print(resp)"
   ]
  },
  {
   "cell_type": "markdown",
   "id": "a46d6312",
   "metadata": {},
   "source": [
    "## Scheduler"
   ]
  },
  {
   "cell_type": "markdown",
   "id": "38223b52",
   "metadata": {},
   "source": [
    "### Get all schedules"
   ]
  },
  {
   "cell_type": "code",
   "execution_count": null,
   "id": "8015fb49",
   "metadata": {},
   "outputs": [],
   "source": [
    "get_all_schedules=url+'/api/v1/scheduler/workflow-event?calendar=1&offset=0&limit=200'\n",
    "r=requests.get(get_all_schedules,headers=headers)\n",
    "resp=r.json()\n",
    "\n",
    "# Print the first schedule\n",
    "s=resp['results'][0]['start_event_args']\n",
    "print(json.dumps(s,indent=2))"
   ]
  },
  {
   "cell_type": "markdown",
   "id": "9f7c7375",
   "metadata": {},
   "source": [
    "### Create a new schedule"
   ]
  },
  {
   "cell_type": "code",
   "execution_count": null,
   "id": "f547b812",
   "metadata": {},
   "outputs": [],
   "source": [
    "import uuid\n",
    "from datetime import datetime,timedelta\n",
    "from pytz import timezone\n",
    "\n",
    "# Send a POST request to this API endpoint\n",
    "create_schedule=url+'/api/v1/scheduler/workflow-event'\n",
    "\n",
    "TZ='Asia/Kuala_Lumpur'\n",
    "now=datetime.now(tz=timezone(TZ))\n",
    "f='%Y%m%dT%H%M%S'\n",
    "start=datetime.strftime(now,f)\n",
    "end=datetime.strftime(now+timedelta(hours=1),f)\n",
    "\n",
    "# Workflow information 1 Workflow 1 action Group\n",
    "workflow='ccd493be-e176-4d3b-98f3-0aa41e02788e'\n",
    "block_group='e7bc494c-46de-4391-b666-14510c118263'\n",
    "robot='freight100-1737'\n",
    "\n",
    "# UUID needed in the payload\n",
    "u=str(uuid.uuid4())\n",
    "\n",
    "# Repeat Rule (1 time occurrence or repeated weekly)\n",
    "repeat_rule='BYDAY=SU,FR,SA,MO'\n",
    "#repeat_rule='COUNT=1'\n",
    "\n",
    "# UNTIL\n",
    "until=''\n",
    "\n",
    "\n",
    "# Start and end rrule\n",
    "start_rrule='DTSTART;TZID={tz}:{t}\\nRRULE:FREQ=WEEKLY;INTERVAL=1;WKST=MO;{repeat_rule}'.format(\n",
    "    tz=TZ,t=start,repeat_rule=repeat_rule\n",
    ")\n",
    "end_rrule='DTSTART;TZID={tz}:{t}\\nRRULE:FREQ=WEEKLY;INTERVAL=1;WKST=MO;{repeat_rule}'.format(\n",
    "    tz=TZ,t=end,repeat_rule=repeat_rule\n",
    ")\n",
    "\n",
    "# start and event_args is the same during schedule creation \n",
    "event_args=[\n",
    "    {\n",
    "        'id':u,\n",
    "        'workflow':workflow,\n",
    "        'resources':[\n",
    "            {\n",
    "                'type':'robot',\n",
    "                'name':robot\n",
    "            }\n",
    "        ],\n",
    "        'block_group':block_group\n",
    "    }         \n",
    "]\n",
    "event_args=json.dumps(event_args)\n",
    "\n",
    "# This is the JSON data needed in the payload of the POST request\n",
    "data={\n",
    "    'calendar':1,\n",
    "    'end_event_args':event_args,\n",
    "    'end_event_task':'trigger_workflow_stop@1.0.0',\n",
    "    'name':'',\n",
    "    'end_rrule':end_rrule,\n",
    "    'start_event_args':event_args,\n",
    "    'start_event_task':'trigger_workflow_start@1.0.0',\n",
    "    'start_rrule':start_rrule\n",
    "}\n",
    "# SUMMARY\n",
    "print('-'*50)\n",
    "print('POST to API endpoint:',create_schedule)\n",
    "print('with the Payload: ')\n",
    "print(json.dumps(data,indent=2))\n",
    "r=requests.post(create_schedule,json=data,headers=headers)\n",
    "print('-'*50)\n",
    "print('Status code:',r.status_code)\n",
    "print('Response: ')\n",
    "print(r.json())"
   ]
  }
 ],
 "metadata": {
  "kernelspec": {
   "display_name": "Python 3 (ipykernel)",
   "language": "python",
   "name": "python3"
  },
  "language_info": {
   "codemirror_mode": {
    "name": "ipython",
    "version": 3
   },
   "file_extension": ".py",
   "mimetype": "text/x-python",
   "name": "python",
   "nbconvert_exporter": "python",
   "pygments_lexer": "ipython3",
   "version": "3.10.6"
  }
 },
 "nbformat": 4,
 "nbformat_minor": 5
}
